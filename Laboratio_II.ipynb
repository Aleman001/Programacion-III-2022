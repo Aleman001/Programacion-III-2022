{
  "cells": [
    {
      "cell_type": "markdown",
      "metadata": {
        "id": "view-in-github",
        "colab_type": "text"
      },
      "source": [
        "<a href=\"https://colab.research.google.com/github/Aleman001/Programacion-III-2022/blob/main/Laboratio_II.ipynb\" target=\"_parent\"><img src=\"https://colab.research.google.com/assets/colab-badge.svg\" alt=\"Open In Colab\"/></a>"
      ]
    },
    {
      "cell_type": "markdown",
      "source": [
        "Laboratotio 2"
      ],
      "metadata": {
        "id": "UcycM7wKsr4L"
      }
    },
    {
      "cell_type": "markdown",
      "source": [
        "**Integrantes: **\n",
        "**1.   Wilson Adolfo Jovel Guitierrez USIS016519 Grupo: A2ISP03**\n",
        "**2.   Marvin Miguel Peñalba Escobar USIS060119 Grupo:A1ISP03**\n",
        "**3.   Cristian Alexander Aleman Rodriguez USIS06019 Grupo:A1ISP03**\n",
        "**4.   José Pedro Cerna Serrano USIS058619 Grupo:A1ISP03** "
      ],
      "metadata": {
        "id": "2Z0UZrMQu_PM"
      }
    },
    {
      "cell_type": "markdown",
      "source": [
        "Conversores\n"
      ],
      "metadata": {
        "id": "3xwp_lgQWoE4"
      }
    },
    {
      "cell_type": "code",
      "source": [
        "unidadesC = [\n",
        "    [1.00,8.75,7.77, 24.03,34.8,611.10,0.82,19.93,105.00,5.39],                                               #monedas //0\n",
        "    [1.0, 100.0,39.37,3.28,0.001,1.093613,0.000621,0.836,0.0001,1.000],                                       #longitud //1\n",
        "    [1.0,16.00,0.453592,4.535924,453.5924,45.35924,4535.924,45359.24,453592.4,0.0005],                        #masa //2\n",
        "    [1.0,0.68,7.629395,8.0,976.5625,0.953674,0.008,0.001,0.000008,0.000001],                                  #almacenamiento //3\n",
        "    [1.0,60.0,3600.0,3600000.0,3600000000.0,0.041667,0.005952,0.000114,1.14155e-5,1.14155e-6],                #tiempo //4\n",
        "    [1.0,33.8,274.15],                                                                                        #temperatura //5\n",
        "    [1.0,0.333333,0.166667,0.0200833,0.005208,0.001302,0.004929,4.928922,4.928922,0.000005],                  #volumen //6\n",
        "    [1.0,0.111111,0.000000035870064,144.0,0.00000009290304,0.000009,0.092903,929.0304,92903.04,0.000024],     #area //7\n",
        "]\n"
      ],
      "metadata": {
        "id": "IlXcceAUhfG8"
      },
      "execution_count": null,
      "outputs": []
    },
    {
      "cell_type": "code",
      "source": [
        "nombresC = [\n",
        "    ['Dolar', \"ColonSv\", \"Quetzal\", \"Lempira\", \"Cordoba\", \"Colon(CR)\", \"Euro\",                  #monedas//0\n",
        "     \"Peso(Mx)\", \"Yen(Jp)\", \"Real(Br)\"],                                                        \n",
        "    [\"Metro\", \"Centimetro\", \"Pulgada\", \"Pie\", \"Kilonetro\", \"Yarda\", \"Milla\",                     #longitud//1\n",
        "     \"Vara\", \"Hectarea\", \"Milimetro\"],\n",
        "    [\"Libra\", \"Onza\", \"Kilogramo\", \"Hectogramo\", \"Gramo\", \"Decagramo\", \"Decigramo\",              #masa//2\n",
        "     \"Centigramo\", \"Miligramo\", \"Tonelada Corta(USA)\"],\n",
        "    [\"Megabytes\", \"Diskettes\", \"Mebibits\", \"bits\", \"Kibibytes\", \"Mebibytes\",                     #almacenamiento//3\n",
        "     \"Gigabits\", \"Gigabytes\", \"Terabits\", \"Terabytes\"],\n",
        "    [\"Hora\", \"Minutos\", \"Segundos\", \"Milisegundos\", \"Microsegundos\", \"Días\",                     #tiempo//4\n",
        "     \"Semana\", \"Años\", \"Decada\", \"Siglo\"],\n",
        "    [\"Celsius\", \"Fahrenheit\", \"Kelvin\"],                                                         #temperatura//5\n",
        "    [\"Cucharaditas\", \"Cuchardas\", \"Onzas Líquidas\", \"Tazas\", \"Cuartos de Galón\",                 #volumen//6\n",
        "     \"Galones\", \"Litros\", \"Mililitros\", \"Centímetros Cúbicos\", \"Metros Cúbicos\"],                #area//7\n",
        "    [\"Pies Cuadrados\", \"Yardas Cuadradas\", \"Milla Cuadradas\", \"Pulgadas Cuadradas\",\n",
        "     \"Kilómetros Cuadradas\", \"Hectáreas\", \"Metros Cuadrados\", \"Centímetros Cuadrados\",\n",
        "     \"Milímetros Cuadrados\", \"Acres\"]\n",
        "]"
      ],
      "metadata": {
        "id": "c0_cfv7tgZNC"
      },
      "execution_count": null,
      "outputs": []
    },
    {
      "cell_type": "code",
      "source": [
        "#@title\n",
        "def convertir(de, a, cantidad, u):\n",
        "  return unidadesC[u][a] / unidadesC[u][de] * cantidad"
      ],
      "metadata": {
        "id": "6JejTHAe7ozS"
      },
      "execution_count": null,
      "outputs": []
    },
    {
      "cell_type": "code",
      "source": [
        "def datos (con):\n",
        "  if con != 5:\n",
        "    de = int(input(\"de: \")) \n",
        "    a = int(input(\"a: \"))\n",
        "    cantidad = float(input(\"Cantidad: \"))\n",
        "    return print(cantidad, nombresC[con][de],'es: ', convertir(de,a,cantidad,con), nombresC[con][a]) \n",
        "\n",
        "  else:\n",
        "    de = int(input(\"de: \"))\n",
        "    a = int(input(\"a: \"))\n",
        "    cantidad = float(input(\"Cantidad: \"))\n",
        "    return print(cantidad, nombresC[con][de], 'es: ',temperatura(de,a,cantidad,a),nombresC[con][a])\n",
        "\n",
        "  "
      ],
      "metadata": {
        "id": "PbIqNo6EaJNp"
      },
      "execution_count": null,
      "outputs": []
    },
    {
      "cell_type": "code",
      "source": [
        "def menu(i, con):\n",
        "  if con != 5:    \n",
        "    while(i<=9):\n",
        "      print(i, \"- \",nombresC[con][i],\"\\n\")\n",
        "      i+=1\n",
        "  else:\n",
        "    while(i<=2):\n",
        "      print(i,\"- \",nombresC[con][i],\"\\n\")\n",
        "      i+=1"
      ],
      "metadata": {
        "id": "BasDkZIFk5_i"
      },
      "execution_count": null,
      "outputs": []
    },
    {
      "cell_type": "code",
      "source": [
        "from contextlib import nullcontext\n",
        "def datosT ():\n",
        "  de = int(input(\"de: \"))\n",
        "  a = int(input(\"a: \"))\n",
        "  cantidad = float(input(\"Cantidad: \"))\n",
        "  return print(cantidad, nombresC[con][de], 'es: ',temperatura(de,a,cantidad,a),nombresC[con][a])"
      ],
      "metadata": {
        "id": "kXS_jYeMPfNc"
      },
      "execution_count": null,
      "outputs": []
    },
    {
      "cell_type": "code",
      "source": [
        "def temperatura (de, a, cantidad, temp):\n",
        "\n",
        "  if de == 0 and a == 1:\n",
        "    temp = (cantidad * 9 / 5) + 32\n",
        "\n",
        "  elif de == 0 and a == 2:\n",
        "    temp = (cantidad + 273.15)\n",
        "\n",
        "  elif de == 1 and a == 0:\n",
        "    temp = (cantidad - 32) * 5 / 9\n",
        "  \n",
        "  elif de == 1 and a == 2:\n",
        "    temp = ( cantidad - 32) * 5 / 9 + 273.15\n",
        "\n",
        "  elif de == 2 and a == 0:\n",
        "    temp = ( cantidad - 273.15)\n",
        "\n",
        "  elif de ==2 and a == 1:\n",
        "    temp = ( cantidad - 273.15) * 9 / 5 + 32\n",
        "  \n",
        "  return temp"
      ],
      "metadata": {
        "id": "U8snz8-CMvTt"
      },
      "execution_count": null,
      "outputs": []
    },
    {
      "cell_type": "code",
      "source": [
        "print(\"Seleccione que tipo de conversor\")\n",
        "print(\"0- Monedas\")\n",
        "print(\"1- Longitud\")\n",
        "print(\"2- Masa\")\n",
        "print(\"3- Almacenamiento\")\n",
        "print(\"4- Tiempo\")\n",
        "print(\"5- Temperatura\")\n",
        "print(\"6- Volumen\")\n",
        "print(\"7- Area\")"
      ],
      "metadata": {
        "colab": {
          "base_uri": "https://localhost:8080/"
        },
        "id": "dQJzXzLZkd8D",
        "outputId": "7d315486-9a38-4db6-863b-54435510abbc"
      },
      "execution_count": null,
      "outputs": [
        {
          "output_type": "stream",
          "name": "stdout",
          "text": [
            "Seleccione que tipo de conversor\n",
            "0- Monedas\n",
            "1- Longitud\n",
            "2- Masa\n",
            "3- Almacenamiento\n",
            "4- Tiempo\n",
            "5- Temperatura\n",
            "6- Volumen\n",
            "7- Area\n"
          ]
        }
      ]
    },
    {
      "cell_type": "code",
      "source": [
        "\n",
        "i = 0\n",
        "con = int(input(\"Ingrese seleccion: \"))\n",
        "if con==0:\n",
        "  menu(i,con)\n",
        "  datos(con)\n",
        "\n",
        "elif con==1:\n",
        "  menu(i,con)\n",
        "  datos(con)\n",
        "\n",
        "elif con==2:\n",
        "  menu(i,con)  \n",
        "  datos(con)\n",
        "\n",
        "elif con==3:\n",
        "  menu(i,con)\n",
        "  datos(con)\n",
        "\n",
        "elif con==4:\n",
        "  menu(i,con)\n",
        "  datos(con)\n",
        "\n",
        "elif con==5:\n",
        "  menu(i,con)\n",
        "  datos(con)\n",
        "\n",
        "elif con==6:\n",
        "  menu(i,con)\n",
        "  datos(con)\n",
        "\n",
        "elif con==7:\n",
        "  menu(i,con)\n",
        "  datos(con)\n"
      ],
      "metadata": {
        "colab": {
          "base_uri": "https://localhost:8080/"
        },
        "id": "YRRMj7IE06aP",
        "outputId": "72b544a0-a54d-4e1d-e7dc-bd5735dbf775"
      },
      "execution_count": null,
      "outputs": [
        {
          "output_type": "stream",
          "name": "stdout",
          "text": [
            "Ingrese seleccion: 0\n",
            "0 -  Dolar \n",
            "\n",
            "1 -  ColonSv \n",
            "\n",
            "2 -  Quetzal \n",
            "\n",
            "3 -  Lempira \n",
            "\n",
            "4 -  Cordoba \n",
            "\n",
            "5 -  Colon(CR) \n",
            "\n",
            "6 -  Euro \n",
            "\n",
            "7 -  Peso(Mx) \n",
            "\n",
            "8 -  Yen(Jp) \n",
            "\n",
            "9 -  Real(Br) \n",
            "\n",
            "de: 9\n",
            "a: 0\n",
            "Cantidad: 10\n",
            "10.0 Real(Br) es:  1.855287569573284 Dolar\n"
          ]
        }
      ]
    },
    {
      "cell_type": "markdown",
      "source": [
        "Precio del agua"
      ],
      "metadata": {
        "id": "GvTkBaBpWhYy"
      }
    },
    {
      "cell_type": "code",
      "source": [
        "def precios (m3, precio):\n",
        "  exc1, exc2 = 18, 28\n",
        "  val1, val2 = 0.45, 0.65\n",
        "  cumi = 6.00\n",
        "  valexc1 = 4.50\n",
        "\n",
        "  if m3 >= 1 and m3 <= 18:\n",
        "    precio = cumi\n",
        "  \n",
        "  elif m3 >=19 and m3 <= 28:\n",
        "    precio = ((m3 - exc1) * val1) + cumi\n",
        "\n",
        "  elif m3 >=29:\n",
        "    precio = ((m3 - exc2) * val2) + valexc1 + cumi\n",
        "\n",
        "  return precio"
      ],
      "metadata": {
        "id": "2cxUpOZCYJsM"
      },
      "execution_count": null,
      "outputs": []
    },
    {
      "cell_type": "code",
      "source": [
        "\n",
        "m3 = float(input(\"Ingrese la cantidad de metros cubicos: \"))\n",
        "\n",
        "print(\"su total a pagar es: \", precios(m3,m3), \" dolares.\")\n"
      ],
      "metadata": {
        "colab": {
          "base_uri": "https://localhost:8080/"
        },
        "id": "nEyR6fH5aS00",
        "outputId": "4301c79f-6b4e-47b2-b713-475b944d2afc"
      },
      "execution_count": null,
      "outputs": [
        {
          "output_type": "stream",
          "name": "stdout",
          "text": [
            "Ingrese la cantidad de metros cubicos: 150\n",
            "su total a pagar es:  89.8  dolares.\n"
          ]
        }
      ]
    },
    {
      "cell_type": "markdown",
      "source": [
        "*********************************************************************\n",
        "*********************CALCULANDO SALARIO******************************\n",
        "*********************************************************************"
      ],
      "metadata": {
        "id": "groHuc0kikAW"
      }
    },
    {
      "cell_type": "code",
      "source": [
        "\n",
        "t1From, t1To, t1Per, t1Off, t1C = 472.01, 895.24, 0.10, 472.00, 17.67\n",
        "t2From, t2To, t2Per, t2Off, t2C = 895.25, 2038.10, 0.20, 825.24, 60.00\n",
        "t3From, t3Per, t3Off, t3C = 2038.11, 0.30, 2038.10, 288.57"
      ],
      "metadata": {
        "id": "FKQvpdajr1E3"
      },
      "execution_count": null,
      "outputs": []
    },
    {
      "cell_type": "code",
      "source": [
        "def printData(dafp,disss,renta,finalsueldo,):\n",
        "    print(\"descuento AFP: \", dafp, '\\n', \n",
        "     \"descuento ISSS: \", disss,'\\n',\n",
        "     \"descuento Renta: \",renta,'\\n',\n",
        "     \"Sueldo final: \", finalsueldo)\n"
      ],
      "metadata": {
        "id": "UuknWcgJuipk"
      },
      "execution_count": null,
      "outputs": []
    },
    {
      "cell_type": "code",
      "source": [
        "\n",
        "isss, afp = 0.03, 0.0625\n",
        "r = 0.00\n",
        "usueldo = float(input(\"Ingrese su sueldo: \"))\n",
        "disss = round(usueldo * isss,2)\n",
        "dafp = round(usueldo * afp,2)\n",
        "finalsueldo = round(usueldo-disss-dafp,2)\n",
        "\n",
        "if finalsueldo <= 472.00:\n",
        "  printData(dafp,disss,r,finalsueldo)\n",
        "elif finalsueldo >= t1From and finalsueldo <= t1To:\n",
        "  s = round((finalsueldo - t1Off)*t1Per + t1C,2)\n",
        "  finalsueldo -= s\n",
        "  printData(dafp,disss,s,finalsueldo)\n",
        "elif finalsueldo >= t2From and finalsueldo <= t2To:\n",
        "  s = round((finalsueldo - t2Off)*t2Per + t2C,2)\n",
        "  finalsueldo -= s\n",
        "  printData(dafp,disss,s,finalsueldo)\n",
        "elif finalsueldo >= t3From:\n",
        "  s = round((finalsueldo - t3Off)*t3Per + t3C,2)\n",
        "  finalsueldo -= s\n",
        "  printData(dafp,disss,s,finalsueldo)\n"
      ],
      "metadata": {
        "colab": {
          "base_uri": "https://localhost:8080/"
        },
        "id": "rCM7S0ijiwHE",
        "outputId": "87de5b4f-224a-4740-e52f-0c67cd4d1c40"
      },
      "execution_count": null,
      "outputs": [
        {
          "output_type": "stream",
          "name": "stdout",
          "text": [
            "Ingrese su sueldo: 100000000\n",
            "descuento AFP:  6250000.0 \n",
            " descuento ISSS:  3000000.0 \n",
            " descuento Renta:  27224677.14 \n",
            " Sueldo final:  63525322.86\n"
          ]
        }
      ]
    }
  ],
  "metadata": {
    "colab": {
      "collapsed_sections": [],
      "name": "Laboratio II",
      "provenance": [],
      "include_colab_link": true
    },
    "kernelspec": {
      "display_name": "Python 3",
      "name": "python3"
    }
  },
  "nbformat": 4,
  "nbformat_minor": 0
}