{
  "nbformat": 4,
  "nbformat_minor": 0,
  "metadata": {
    "colab": {
      "provenance": [],
      "include_colab_link": true
    },
    "kernelspec": {
      "name": "python3",
      "display_name": "Python 3"
    },
    "language_info": {
      "name": "python"
    }
  },
  "cells": [
    {
      "cell_type": "markdown",
      "metadata": {
        "id": "view-in-github",
        "colab_type": "text"
      },
      "source": [
        "<a href=\"https://colab.research.google.com/github/Aleman001/Programacion-III-2022/blob/main/ParcialI.ipynb\" target=\"_parent\"><img src=\"https://colab.research.google.com/assets/colab-badge.svg\" alt=\"Open In Colab\"/></a>"
      ]
    },
    {
      "cell_type": "markdown",
      "source": [
        "Conversor de area usando diccionarios\n"
      ],
      "metadata": {
        "id": "6g3UomuRmVzk"
      }
    },
    {
      "cell_type": "code",
      "source": [
        "#Diccionario llamado conversor\n",
        "\n",
        "conversor = {\n",
        "    \"Area\": {\n",
        "        \"Umedida\":[\"Pie Cuadrado\", \"Metro Cuadrado\", \"Vara Cuadrada\",\n",
        "                   \"Yarda Cuadrada\", \"Tareas\", \"Manzana\",\n",
        "                   \"Hectarea\"],\n",
        "        \"Vmedida\":[1.0,0.0929,0.3333,0.333333, 0.00014774656489,\n",
        "                   0.000013292827545,0.000009290304]\n",
        "    }\n",
        "}\n"
      ],
      "metadata": {
        "id": "8PX0Ftnpmabk"
      },
      "execution_count": 1,
      "outputs": []
    },
    {
      "cell_type": "code",
      "source": [
        "#Funcion para realizar la conversion\n",
        "def convertir(de, a, cantidad,area,medida):\n",
        "  return conversor[area][medida][a] / conversor[area][medida][de] * cantidad"
      ],
      "metadata": {
        "id": "vK3XQRhNn4e9"
      },
      "execution_count": 2,
      "outputs": []
    },
    {
      "cell_type": "code",
      "source": [
        "#Funcion para desplegar menu\n",
        "\n",
        "def Menu(i):\n",
        "     \n",
        "    while(i<=6):\n",
        "      print(i, \"- \",conversor[\"Area\"][\"Umedida\"][i],\"\\n\")\n",
        "      i+=1\n"
      ],
      "metadata": {
        "id": "VvK7oJVEsUMT"
      },
      "execution_count": 3,
      "outputs": []
    },
    {
      "cell_type": "code",
      "source": [
        "\n",
        "#Funcion para pedir y convertir los datos\n",
        "def Datos():\n",
        "    de = int(input(\"de: \")) \n",
        "    a = int(input(\"a: \"))\n",
        "    cantidad = float(input(\"Cantidad: \"))\n",
        "    return print(cantidad, conversor[\"Area\"][\"Umedida\"][de],'es: ',round(convertir(de,a,cantidad,\"Area\",\"Vmedida\"),2) , conversor[\"Area\"][\"Umedida\"][a]) "
      ],
      "metadata": {
        "id": "4Qc33NvruvGH"
      },
      "execution_count": 4,
      "outputs": []
    },
    {
      "cell_type": "code",
      "source": [
        "#Pedimos los datos y usamos nuestra funcion\n",
        "i = 0\n",
        "\n",
        "print(\"Ingrese el numero de su selccion: \",\"\\n\")\n",
        "Menu(i)\n",
        "Datos()\n"
      ],
      "metadata": {
        "colab": {
          "base_uri": "https://localhost:8080/"
        },
        "id": "SYkhXULgoIN2",
        "outputId": "ba032cd8-70b4-438f-d5eb-929bb322bdf0"
      },
      "execution_count": 5,
      "outputs": [
        {
          "output_type": "stream",
          "name": "stdout",
          "text": [
            "Ingrese el numero de su selccion:  \n",
            "\n",
            "0 -  Pie Cuadrado \n",
            "\n",
            "1 -  Metro Cuadrado \n",
            "\n",
            "2 -  Vara Cuadrada \n",
            "\n",
            "3 -  Yarda Cuadrada \n",
            "\n",
            "4 -  Tareas \n",
            "\n",
            "5 -  Manzana \n",
            "\n",
            "6 -  Hectarea \n",
            "\n",
            "de: 0\n",
            "a: 1\n",
            "Cantidad: 2\n",
            "2.0 Pie Cuadrado es:  0.19 Metro Cuadrado\n"
          ]
        }
      ]
    },
    {
      "cell_type": "markdown",
      "source": [
        "Algoritmo para sueldo de empleados despues de descuentos\n"
      ],
      "metadata": {
        "id": "tlBnpJijwY77"
      }
    },
    {
      "cell_type": "code",
      "source": [
        "#Ingresamos los valores de tramo segun tabla\n",
        "t1From, t1To, t1Per, t1Off, t1C = 472.01, 895.24, 0.10, 472.00, 17.67\n",
        "t2From, t2To, t2Per, t2Off, t2C = 895.25, 2038.10, 0.20, 825.24, 60.00\n",
        "t3From, t3Per, t3Off, t3C = 2038.11, 0.30, 2038.10, 288.57"
      ],
      "metadata": {
        "id": "SVJM1XaEwiHk"
      },
      "execution_count": 6,
      "outputs": []
    },
    {
      "cell_type": "code",
      "source": [
        "#Funcion para imprimir los resultados\n",
        "def printData(dafp,disss,renta,finalsueldo,):\n",
        "    print(\"descuento AFP: \", str(dafp), '\\n', \n",
        "     \"descuento ISSS: \", str(disss),'\\n',\n",
        "     \"descuento Renta: \",str(renta),'\\n',\n",
        "     \"Sueldo final: \", str(finalsueldo))"
      ],
      "metadata": {
        "id": "f0V-5DYRwxRJ"
      },
      "execution_count": 7,
      "outputs": []
    },
    {
      "cell_type": "code",
      "source": [
        "#Se crean valores de afp e isss como constantes:\n",
        "isss, afp = 0.03, 0.0625\n",
        "#Variable para imprimir valor de renta en tramo 1\n",
        "r = 0.00\n",
        "#Para renta\n",
        "s = 0\n",
        "#Solicitamos los datos:\n",
        "usueldo = float(input(\"Ingrese su sueldo: \"))\n",
        "#se calculan los descuentos\n",
        "disss = round(usueldo * isss,2)\n",
        "dafp = round(usueldo * afp,2)\n",
        "#Se guarda el resultado para evaluar las condiciones de descuento:\n",
        "finalsueldo = round(usueldo-disss-dafp,2)\n",
        "\n",
        "#Evaluamos condiciones e imprimimos resultados\n",
        "#Usamos las variables de cada tramo para realizar la validacion y operaciones\n",
        "if finalsueldo <= 472.00:\n",
        "  printData(dafp,disss,r,finalsueldo)\n",
        "elif finalsueldo >= t1From and finalsueldo <= t1To:\n",
        "  s = round((finalsueldo - t1Off)*t1Per + t1C,2)\n",
        "  finalsueldo -= s\n",
        "elif finalsueldo >= t2From and finalsueldo <= t2To:\n",
        "  s = round((finalsueldo - t2Off)*t2Per + t2C,2)\n",
        "  finalsueldo -= s\n",
        "elif finalsueldo >= t3From:\n",
        "  s = round((finalsueldo - t3Off)*t3Per + t3C,2)\n",
        "  finalsueldo -= s\n",
        " \n"
      ],
      "metadata": {
        "colab": {
          "base_uri": "https://localhost:8080/"
        },
        "id": "oLG77eGrw5bw",
        "outputId": "6986df03-b4a2-4d2b-a3ac-d720bd9f2080"
      },
      "execution_count": 8,
      "outputs": [
        {
          "output_type": "stream",
          "name": "stdout",
          "text": [
            "Ingrese su sueldo: 500\n",
            "descuento AFP:  31.25 \n",
            " descuento ISSS:  15.0 \n",
            " descuento Renta:  0.0 \n",
            " Sueldo final:  453.75\n"
          ]
        }
      ]
    },
    {
      "cell_type": "markdown",
      "source": [
        "Algoritmo de impuesto sobre las actividades economicas"
      ],
      "metadata": {
        "id": "6dmi01Nw32qa"
      }
    },
    {
      "cell_type": "code",
      "source": [
        "#Creamos un diccionario con nuestros datos\n",
        "\n",
        "descuentos = {\n",
        "    \"Desde\":[[],0.01,500.01,1000.01,2000.01,3000.01,8000.01,18000.01,30000.01,\n",
        "             60000.01,100000.01,200000.01,300000.01,400000.01,500000.01,1000000.01],\n",
        "              \n",
        "    \"Hasta\":[[],500,1000,2000,3000,6000,18000,30000,60000,100000,200000,300000,\n",
        "            400000,500000,1000000,99999999],\n",
        "\n",
        "    \"Precio\":[[],1.5,1.5,3,6,9,15,39,63,93,125,195,255,300,340,490],\n",
        "\n",
        "    \"Adicional\":[[],0,3,3,3,2,2,2,1,0.8,0.7,0.6,0.45,0.4,0.30,0.18]\n",
        "}\n"
      ],
      "metadata": {
        "id": "CZ37T_ky38BH"
      },
      "execution_count": 9,
      "outputs": []
    },
    {
      "cell_type": "code",
      "source": [
        "#Creamos constantes para ingresar a nuestro diccionario\n",
        "d,h,p,a = 'Desde','Hasta','Precio','Adicional'\n",
        "#Constante que siempre divide\n",
        "div = 1000\n",
        "#Variable para guardar el valor final\n",
        "finalValor = 0\n",
        "#Empezamos el iterador en 1\n",
        "i = 1"
      ],
      "metadata": {
        "id": "Ylz-K0AbN81J"
      },
      "execution_count": 10,
      "outputs": []
    },
    {
      "cell_type": "code",
      "source": [
        "#Capturamos la actividad economica\n",
        "actEconomica = float(input(\"Ingrese su actividad: \"))\n",
        "\n",
        "#Evaluamos las condiciones y al final imprimios el resultado correcto\n",
        "while (actEconomica >= descuentos[d][i] and actEconomica <= descuentos[h][i]) != True:\n",
        "   i+=1\n",
        "finalValor = round((actEconomica - descuentos[d][i]) /div * descuentos[a][i] + descuentos[p][i],2)\n",
        "print(\"Valor a pagar: \" + str(finalValor))"
      ],
      "metadata": {
        "colab": {
          "base_uri": "https://localhost:8080/"
        },
        "id": "u81DCjxy9sKp",
        "outputId": "46998245-c62d-45b2-cf63-1957a271d697"
      },
      "execution_count": 14,
      "outputs": [
        {
          "output_type": "stream",
          "name": "stdout",
          "text": [
            "Ingrese su actividad: 500000\n",
            "Valor a pagar: 340.0\n"
          ]
        }
      ]
    },
    {
      "cell_type": "markdown",
      "source": [
        "\n",
        "cajero automatico"
      ],
      "metadata": {
        "id": "K5dgCzNfExtm"
      }
    },
    {
      "cell_type": "code",
      "source": [
        "denominaciones = [100, 50, 20, 10, 5, 1, 0.25, 0.1, 0.05, 0.01]"
      ],
      "metadata": {
        "id": "dAs0KCCdE8y1"
      },
      "execution_count": 12,
      "outputs": []
    },
    {
      "cell_type": "code",
      "source": [
        "final = 0\n",
        "n = 0\n",
        "cantidad = float(input(\"Ingrese cantidad a retirar: \"))\n",
        "\n",
        "for dem in denominaciones:\n",
        "  if cantidad >= dem:\n",
        "    final = cantidad // dem\n",
        "    print(final, \" \",\n",
        "          ('Billete' if cantidad >= 5 else 'Moneda') + ('s'if final > 1 else \" \") + \" de \", dem)\n",
        "    cantidad = cantidad % dem\n",
        "  "
      ],
      "metadata": {
        "id": "Otnw66kZE2Md",
        "outputId": "033e7f94-802f-4cc0-d5a6-953fb0dd519f",
        "colab": {
          "base_uri": "https://localhost:8080/"
        }
      },
      "execution_count": 15,
      "outputs": [
        {
          "output_type": "stream",
          "name": "stdout",
          "text": [
            "Ingrese cantidad a retirar: 999.99\n",
            "9.0   Billetes de  100\n",
            "1.0   Billete  de  50\n",
            "2.0   Billetes de  20\n",
            "1.0   Billete  de  5\n",
            "4.0   Monedas de  1\n",
            "3.0   Monedas de  0.25\n",
            "2.0   Monedas de  0.1\n",
            "4.0   Monedas de  0.01\n"
          ]
        }
      ]
    },
    {
      "cell_type": "markdown",
      "source": [],
      "metadata": {
        "id": "lUP403fqnuUg"
      }
    }
  ]
}